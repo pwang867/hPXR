{
 "cells": [
  {
   "cell_type": "markdown",
   "metadata": {},
   "source": [
    "## Extract molecular descriptors using mordred library\n",
    "\n",
    "[https://github.com/mordred-descriptor/mordred](https://github.com/mordred-descriptor/mordred)"
   ]
  },
  {
   "cell_type": "code",
   "execution_count": 1,
   "metadata": {},
   "outputs": [
    {
     "name": "stdout",
     "output_type": "stream",
     "text": [
      "Total number of descriptors: 1826\n",
      "Total number of 2D descriptors: 1613\n",
      "Total number of 3D descriptors: 213\n"
     ]
    }
   ],
   "source": [
    "import rdkit\n",
    "from rdkit import Chem\n",
    "from mordred import Calculator, descriptors\n",
    "import pandas as pd\n",
    "import numpy as np\n",
    "\n",
    "n = len(Calculator(descriptors, ignore_3D=False))\n",
    "n_2d = len(Calculator(descriptors, ignore_3D=True))\n",
    "n_3d = n - n_2d\n",
    "print(\"Total number of descriptors: {}\".format(n))\n",
    "print(\"Total number of 2D descriptors: {}\".format(n_2d))\n",
    "print(\"Total number of 3D descriptors: {}\".format(n_3d))"
   ]
  },
  {
   "cell_type": "code",
   "execution_count": 127,
   "metadata": {
    "scrolled": true
   },
   "outputs": [
    {
     "name": "stderr",
     "output_type": "stream",
     "text": [
      "RDKit ERROR: [22:28:10] SMILES Parse Error: extra open parentheses for input: 'O=C1C(OC(C(C(O[H])([H])C([H])4°[H])([H])O[H])([H])OC4([H])C([H])([H])O[H])=C(C3=C([H])C(O[H])=C(O[H])C([H])=C3[H])OC2=C1C(O[H])=C([H])C(O[H])=C2[H]'\n",
      "RDKit ERROR: [22:28:10] SMILES Parse Error: extra open parentheses for input: 'O=C1C(OC3([H])OC(C(O[H])([H])C([H])([H])O[H])([H])C(O[H])([H])C([H])3°[H])=C(C4=C([H])C(O[H])=C(O[H])C([H])=C4[H])OC2=C1C(O[H])=C([H])C(O[H])=C2[H]'\n",
      "RDKit ERROR: [22:28:10] SMILES Parse Error: extra open parentheses for input: 'O=C1C(OC(OC(C([H])([H])[H])([H])C(O[H])([H])C([H])3°[H])([H])C3([H])O[H])=C(C4=C([H])C(O[H])=C(O[H])C([H])=C4[H])OC2=C1C(O[H])=C([H])C(O[H])=C2[H]'\n",
      "RDKit ERROR: [22:28:10] SMILES Parse Error: syntax error while parsing: C1CC(CL)CCC1C(N4CCNC4)(C2CCCCC2)C3CCCCC3\n",
      "RDKit ERROR: [22:28:10] SMILES Parse Error: Failed parsing SMILES 'C1CC(CL)CCC1C(N4CCNC4)(C2CCCCC2)C3CCCCC3' for input: 'C1CC(CL)CCC1C(N4CCNC4)(C2CCCCC2)C3CCCCC3'\n",
      "RDKit ERROR: [22:28:10] SMILES Parse Error: syntax error while parsing: C3CCCCC3C(C(C1)CCCC1CL)(N2CCNC2)C4CCCCC4\n",
      "RDKit ERROR: [22:28:10] SMILES Parse Error: Failed parsing SMILES 'C3CCCCC3C(C(C1)CCCC1CL)(N2CCNC2)C4CCCCC4' for input: 'C3CCCCC3C(C(C1)CCCC1CL)(N2CCNC2)C4CCCCC4'\n",
      "RDKit ERROR: [22:28:10] SMILES Parse Error: syntax error while parsing: CLC1CCCC(CL)C1CN(C2NCN4)CNC2C4N5CCC3CCCCC3C5\n",
      "RDKit ERROR: [22:28:10] SMILES Parse Error: Failed parsing SMILES 'CLC1CCCC(CL)C1CN(C2NCN4)CNC2C4N5CCC3CCCCC3C5' for input: 'CLC1CCCC(CL)C1CN(C2NCN4)CNC2C4N5CCC3CCCCC3C5'\n",
      "RDKit ERROR: [22:28:10] SMILES Parse Error: syntax error while parsing: C5CCCC1C5NC(N1[H])-C4CC3CC(CCC3OC4=O)CC2CCCCC2CL\n",
      "RDKit ERROR: [22:28:10] SMILES Parse Error: Failed parsing SMILES 'C5CCCC1C5NC(N1[H])-C4CC3CC(CCC3OC4=O)CC2CCCCC2CL' for input: 'C5CCCC1C5NC(N1[H])-C4CC3CC(CCC3OC4=O)CC2CCCCC2CL'\n",
      "RDKit ERROR: [22:28:10] SMILES Parse Error: syntax error while parsing: CLC2CCCCC2COC3CCC(CC3)C=C(C#N)C(N1C)NC4C1CCCC4\n",
      "RDKit ERROR: [22:28:10] SMILES Parse Error: Failed parsing SMILES 'CLC2CCCCC2COC3CCC(CC3)C=C(C#N)C(N1C)NC4C1CCCC4' for input: 'CLC2CCCCC2COC3CCC(CC3)C=C(C#N)C(N1C)NC4C1CCCC4'\n",
      "RDKit ERROR: [22:28:10] SMILES Parse Error: syntax error while parsing: FC1CCCC(CL)C1CNC(NN3C(=O)C)NC3NCC2C(CL)CCCC2F\n",
      "RDKit ERROR: [22:28:10] SMILES Parse Error: Failed parsing SMILES 'FC1CCCC(CL)C1CNC(NN3C(=O)C)NC3NCC2C(CL)CCCC2F' for input: 'FC1CCCC(CL)C1CNC(NN3C(=O)C)NC3NCC2C(CL)CCCC2F'\n",
      "RDKit ERROR: [22:28:10] SMILES Parse Error: syntax error while parsing: N4C1CCCCC1OC4-C(CC3)CCC3CNC(=O)COC(CC2C)CC(C)C2CL\n",
      "RDKit ERROR: [22:28:10] SMILES Parse Error: Failed parsing SMILES 'N4C1CCCCC1OC4-C(CC3)CCC3CNC(=O)COC(CC2C)CC(C)C2CL' for input: 'N4C1CCCCC1OC4-C(CC3)CCC3CNC(=O)COC(CC2C)CC(C)C2CL'\n",
      "RDKit ERROR: [22:28:10] SMILES Parse Error: syntax error while parsing: FC3CCCCC3COC(=O)C4CC(CCC4CL)-N2NNNC2SCC1CCCCC1F\n",
      "RDKit ERROR: [22:28:10] SMILES Parse Error: Failed parsing SMILES 'FC3CCCCC3COC(=O)C4CC(CCC4CL)-N2NNNC2SCC1CCCCC1F' for input: 'FC3CCCCC3COC(=O)C4CC(CCC4CL)-N2NNNC2SCC1CCCCC1F'\n",
      "RDKit ERROR: [22:28:10] SMILES Parse Error: syntax error while parsing: C5CCCCC5-C1NC(NC(C1C4)CCC4CL)SCC(=O)N2N=CCC2C3CCCCC3\n",
      "RDKit ERROR: [22:28:10] SMILES Parse Error: Failed parsing SMILES 'C5CCCCC5-C1NC(NC(C1C4)CCC4CL)SCC(=O)N2N=CCC2C3CCCCC3' for input: 'C5CCCCC5-C1NC(NC(C1C4)CCC4CL)SCC(=O)N2N=CCC2C3CCCCC3'\n",
      "RDKit ERROR: [22:28:10] SMILES Parse Error: syntax error while parsing: CC2CCC(CC2CL)-C1NNC(N1CC)SCC(=O)NC(C3CCCCC3)C4CCCCC4\n",
      "RDKit ERROR: [22:28:10] SMILES Parse Error: Failed parsing SMILES 'CC2CCC(CC2CL)-C1NNC(N1CC)SCC(=O)NC(C3CCCCC3)C4CCCCC4' for input: 'CC2CCC(CC2CL)-C1NNC(N1CC)SCC(=O)NC(C3CCCCC3)C4CCCCC4'\n",
      "RDKit ERROR: [22:28:10] SMILES Parse Error: syntax error while parsing: C3CCCCC3-N1C(-C2CCCCC2CL)NNC1SCC4CCCCC4\n",
      "RDKit ERROR: [22:28:10] SMILES Parse Error: Failed parsing SMILES 'C3CCCCC3-N1C(-C2CCCCC2CL)NNC1SCC4CCCCC4' for input: 'C3CCCCC3-N1C(-C2CCCCC2CL)NNC1SCC4CCCCC4'\n",
      "RDKit ERROR: [22:28:10] SMILES Parse Error: syntax error while parsing: C4CCCCC4-C1CCCCC1C(=O)N(C(C)C)CC3NC(NO3)-C2CCCCC2CL\n",
      "RDKit ERROR: [22:28:10] SMILES Parse Error: Failed parsing SMILES 'C4CCCCC4-C1CCCCC1C(=O)N(C(C)C)CC3NC(NO3)-C2CCCCC2CL' for input: 'C4CCCCC4-C1CCCCC1C(=O)N(C(C)C)CC3NC(NO3)-C2CCCCC2CL'\n",
      "RDKit ERROR: [22:28:10] SMILES Parse Error: syntax error while parsing: C3CCC(CC3CL)NC(=O)CSC1NNC(COC(CC2C)CCC2C)N1CC4CCCCC4\n",
      "RDKit ERROR: [22:28:10] SMILES Parse Error: Failed parsing SMILES 'C3CCC(CC3CL)NC(=O)CSC1NNC(COC(CC2C)CCC2C)N1CC4CCCCC4' for input: 'C3CCC(CC3CL)NC(=O)CSC1NNC(COC(CC2C)CCC2C)N1CC4CCCCC4'\n",
      "RDKit ERROR: [22:28:10] SMILES Parse Error: syntax error while parsing: CLC1CCC(CC1C)OCC(N2C)NNC2SCC(=O)N3C4CCCCC4C5C3CCCC5\n",
      "RDKit ERROR: [22:28:10] SMILES Parse Error: Failed parsing SMILES 'CLC1CCC(CC1C)OCC(N2C)NNC2SCC(=O)N3C4CCCCC4C5C3CCCC5' for input: 'CLC1CCC(CC1C)OCC(N2C)NNC2SCC(=O)N3C4CCCCC4C5C3CCCC5'\n",
      "RDKit ERROR: [22:28:10] SMILES Parse Error: syntax error while parsing: CN(C)CCCN1C2CCCCC2SC3C1CC(CL)CC3\n",
      "RDKit ERROR: [22:28:10] SMILES Parse Error: Failed parsing SMILES 'CN(C)CCCN1C2CCCCC2SC3C1CC(CL)CC3' for input: 'CN(C)CCCN1C2CCCCC2SC3C1CC(CL)CC3'\n",
      "RDKit ERROR: [22:28:10] SMILES Parse Error: syntax error while parsing: CLCCN(CCCL)P1(=O)OCCCN1\n",
      "RDKit ERROR: [22:28:10] SMILES Parse Error: Failed parsing SMILES 'CLCCN(CCCL)P1(=O)OCCCN1' for input: 'CLCCN(CCCL)P1(=O)OCCCN1'\n",
      "RDKit ERROR: [22:28:10] SMILES Parse Error: syntax error while parsing: C13CC(CL)CCC3NC(=O)OC1(C(F)(F)F)C#CC2CC2\n",
      "RDKit ERROR: [22:28:10] SMILES Parse Error: Failed parsing SMILES 'C13CC(CL)CCC3NC(=O)OC1(C(F)(F)F)C#CC2CC2' for input: 'C13CC(CL)CCC3NC(=O)OC1(C(F)(F)F)C#CC2CC2'\n",
      "RDKit ERROR: [22:28:10] SMILES Parse Error: syntax error while parsing: C2CN(C(=O)C)CCN2C3CCC(CC3)OCC5OC(OC5)(CN4CNCC4)C1CCC(CL)CC1CL\n",
      "RDKit ERROR: [22:28:10] SMILES Parse Error: Failed parsing SMILES 'C2CN(C(=O)C)CCN2C3CCC(CC3)OCC5OC(OC5)(CN4CNCC4)C1CCC(CL)CC1CL' for input: 'C2CN(C(=O)C)CCN2C3CCC(CC3)OCC5OC(OC5)(CN4CNCC4)C1CCC(CL)CC1CL'\n",
      "RDKit ERROR: [22:28:10] SMILES Parse Error: syntax error while parsing: CC(C)(C)NC(C)C(=O)C1CCCC(CL)C1\n",
      "RDKit ERROR: [22:28:10] SMILES Parse Error: Failed parsing SMILES 'CC(C)(C)NC(C)C(=O)C1CCCC(CL)C1' for input: 'CC(C)(C)NC(C)C(=O)C1CCCC(CL)C1'\n",
      "RDKit ERROR: [22:28:10] SMILES Parse Error: syntax error while parsing: [H]C2C([H])C(CL)C(C(CL)C2[H])N([H])C(C1[H])C(C([H])([H])C(=O)O[H])C([H])C([H])C1[H]\n",
      "RDKit ERROR: [22:28:10] SMILES Parse Error: Failed parsing SMILES '[H]C2C([H])C(CL)C(C(CL)C2[H])N([H])C(C1[H])C(C([H])([H])C(=O)O[H])C([H])C([H])C1[H]' for input: '[H]C2C([H])C(CL)C(C(CL)C2[H])N([H])C(C1[H])C(C([H])([H])C(=O)O[H])C([H])C([H])C1[H]'\n",
      "RDKit ERROR: [22:28:10] SMILES Parse Error: syntax error while parsing: C14NCCCC4CCC2CC(CL)CCC2C1=C(CC3)CCN3C(=O)OCC\n",
      "RDKit ERROR: [22:28:10] SMILES Parse Error: Failed parsing SMILES 'C14NCCCC4CCC2CC(CL)CCC2C1=C(CC3)CCN3C(=O)OCC' for input: 'C14NCCCC4CCC2CC(CL)CCC2C1=C(CC3)CCN3C(=O)OCC'\n",
      "RDKit ERROR: [22:28:10] SMILES Parse Error: syntax error while parsing: C2C(C)CCCC2CN4CCN(CC4)C(C(CC1)CCC1CL)C3CCCCC3\n",
      "RDKit ERROR: [22:28:10] SMILES Parse Error: Failed parsing SMILES 'C2C(C)CCCC2CN4CCN(CC4)C(C(CC1)CCC1CL)C3CCCCC3' for input: 'C2C(C)CCCC2CN4CCN(CC4)C(C(CC1)CCC1CL)C3CCCCC3'\n",
      "RDKit ERROR: [22:28:10] SMILES Parse Error: syntax error while parsing: FC2CCCCC2C1=NCC3CNC(C)N3-C(CC4)C1CC4CL\n",
      "RDKit ERROR: [22:28:10] SMILES Parse Error: Failed parsing SMILES 'FC2CCCCC2C1=NCC3CNC(C)N3-C(CC4)C1CC4CL' for input: 'FC2CCCCC2C1=NCC3CNC(C)N3-C(CC4)C1CC4CL'\n",
      "RDKit ERROR: [22:28:10] SMILES Parse Error: syntax error while parsing: N14-C2CCC(CL)CC2C(C3CCCCC3CL)=NCC1NNC4C\n",
      "RDKit ERROR: [22:28:10] SMILES Parse Error: Failed parsing SMILES 'N14-C2CCC(CL)CC2C(C3CCCCC3CL)=NCC1NNC4C' for input: 'N14-C2CCC(CL)CC2C(C3CCCCC3CL)=NCC1NNC4C'\n",
      "RDKit ERROR: [22:28:10] SMILES Parse Error: unclosed ring for input: 'OC1C(C)OC(CC1(C)OC)OC2C(C)C(=O)OC(CC)C(C)(O)C(O)C(C)N(C)CC(C)CC(C)(O)C(C2C)OC(C3O)OC(C)\n",
      "RDKit ERROR: CC3N(C)C'\n",
      "RDKit ERROR: [22:28:10] SMILES Parse Error: syntax error while parsing: OC(=O)C1CC(S(=O)(N)=O)C(CL)CC1NCC2CCCO2\n",
      "RDKit ERROR: [22:28:10] SMILES Parse Error: Failed parsing SMILES 'OC(=O)C1CC(S(=O)(N)=O)C(CL)CC1NCC2CCCO2' for input: 'OC(=O)C1CC(S(=O)(N)=O)C(CL)CC1NCC2CCCO2'\n",
      "RDKit ERROR: [22:28:10] SMILES Parse Error: syntax error while parsing: CLC2CCCC(C2CL)-C1NNC(N)NC1N\n",
      "RDKit ERROR: [22:28:10] SMILES Parse Error: Failed parsing SMILES 'CLC2CCCC(C2CL)-C1NNC(N)NC1N' for input: 'CLC2CCCC(C2CL)-C1NNC(N)NC1N'\n"
     ]
    },
    {
     "name": "stderr",
     "output_type": "stream",
     "text": [
      " 10%|▉         | 32/322 [00:02<00:46,  6.26it/s]"
     ]
    },
    {
     "name": "stdout",
     "output_type": "stream",
     "text": [
      "/Users/pengwang/opt/anaconda3/envs/hpxr/lib/python3.7/site-packages/numpy/core/fromnumeric.py:87: RuntimeWarning: overflow encountered in reduce\n",
      "  return ufunc.reduce(obj, axis, dtype, out, **passkwargs)\n"
     ]
    },
    {
     "name": "stderr",
     "output_type": "stream",
     "text": [
      " 47%|████▋     | 152/322 [00:07<00:09, 18.20it/s]"
     ]
    },
    {
     "name": "stdout",
     "output_type": "stream",
     "text": [
      "/Users/pengwang/opt/anaconda3/envs/hpxr/lib/python3.7/site-packages/numpy/core/fromnumeric.py:87: RuntimeWarning: overflow encountered in reduce\n",
      "  return ufunc.reduce(obj, axis, dtype, out, **passkwargs)\n"
     ]
    },
    {
     "name": "stderr",
     "output_type": "stream",
     "text": [
      "100%|██████████| 322/322 [00:13<00:00, 23.12it/s]\n"
     ]
    }
   ],
   "source": [
    "df = pd.read_csv(\"../data/smile.csv\")\n",
    "calc = Calculator(descriptors, ignore_3D=False)\n",
    "mols = [Chem.MolFromSmiles(smi) for smi in df[\"SMILE\"]]\n",
    "mask = [mol is not None for mol in mols]\n",
    "df = df[mask].reset_index()\n",
    "desc = calc.pandas([mol for mol in mols if mol is not None]).reset_index()\n",
    "df = pd.concat([df, desc], axis=1)\n",
    "df.loc[:, \"label\"] = df[\"Human PXR Activator or not?\"].apply(lambda l: 1 if l == \"Y\" else 0)\n",
    "features = df.columns[8:-1]\n",
    "features = [feat for feat in features if df[feat].dtype != \"O\"]\n",
    "label = \"label\""
   ]
  },
  {
   "cell_type": "code",
   "execution_count": null,
   "metadata": {},
   "outputs": [],
   "source": [
    "from sklearn.svm import SVC\n",
    "from sklearn.linear_model import LogisticRegression\n",
    "from sklearn.ensemble import RandomForestClassifier\n",
    "from sklearn.pipeline import Pipeline\n",
    "from sklearn.preprocessing import MinMaxScaler\n",
    "from sklearn.model_selection import GridSearchCV\n",
    "from sklearn.metrics import classification_report\n",
    "from sklearn.model_selection import train_test_split\n",
    "\n",
    "train, test = train_test_split(df, stratify=df[\"label\"], test_size=0.2, random_state=2020)\n",
    "X, y = train[features], train[label]\n",
    "X_test, y_test = test[features], test[label]"
   ]
  },
  {
   "cell_type": "code",
   "execution_count": 170,
   "metadata": {},
   "outputs": [
    {
     "name": "stdout",
     "output_type": "stream",
     "text": [
      "Fitting 5 folds for each of 9 candidates, totalling 45 fits\n"
     ]
    },
    {
     "name": "stderr",
     "output_type": "stream",
     "text": [
      "[Parallel(n_jobs=3)]: Using backend LokyBackend with 3 concurrent workers.\n",
      "[Parallel(n_jobs=3)]: Done  12 tasks      | elapsed:    1.0s\n",
      "[Parallel(n_jobs=3)]: Done  45 out of  45 | elapsed:    3.3s finished\n"
     ]
    },
    {
     "name": "stdout",
     "output_type": "stream",
     "text": [
      "SVM 5 fold cross validation F1 score: 0.806\n",
      "              precision    recall  f1-score   support\n",
      "\n",
      "           0       0.72      0.78      0.75        27\n",
      "           1       0.83      0.79      0.81        38\n",
      "\n",
      "    accuracy                           0.78        65\n",
      "   macro avg       0.78      0.78      0.78        65\n",
      "weighted avg       0.79      0.78      0.79        65\n",
      "\n"
     ]
    }
   ],
   "source": [
    "pipeline = Pipeline([\n",
    "    (\"scaler\", MinMaxScaler()),\n",
    "    (\"classifier\", SVC(kernel=\"rbf\"))\n",
    "])\n",
    "params = {\n",
    "    \"classifier__C\": [2, 4, 8],\n",
    "    \"classifier__gamma\": [0.01, 0.02, 0.04]\n",
    "}\n",
    "gs1 = GridSearchCV(pipeline, param_grid=params, cv=5, refit=True, \n",
    "                  verbose=5, n_jobs=3, scoring=\"f1\")\n",
    "gs1.fit(X, y)\n",
    "print(\"SVM 5 fold cross validation F1 score: {:.3f}\".format(gs1.best_score_))\n",
    "print(classification_report(y_test, gs1.predict(X_test)))"
   ]
  },
  {
   "cell_type": "code",
   "execution_count": 177,
   "metadata": {},
   "outputs": [
    {
     "name": "stdout",
     "output_type": "stream",
     "text": [
      "Fitting 5 folds for each of 32 candidates, totalling 160 fits\n"
     ]
    },
    {
     "name": "stderr",
     "output_type": "stream",
     "text": [
      "[Parallel(n_jobs=3)]: Using backend LokyBackend with 3 concurrent workers.\n",
      "[Parallel(n_jobs=3)]: Done  12 tasks      | elapsed:    1.9s\n",
      "[Parallel(n_jobs=3)]: Done  66 tasks      | elapsed:    7.1s\n",
      "[Parallel(n_jobs=3)]: Done 160 out of 160 | elapsed:   17.8s finished\n"
     ]
    },
    {
     "name": "stdout",
     "output_type": "stream",
     "text": [
      "Random Forest 5 fold cross validation F1 score: 0.789\n",
      "              precision    recall  f1-score   support\n",
      "\n",
      "           0       0.74      0.63      0.68        27\n",
      "           1       0.76      0.84      0.80        38\n",
      "\n",
      "    accuracy                           0.75        65\n",
      "   macro avg       0.75      0.74      0.74        65\n",
      "weighted avg       0.75      0.75      0.75        65\n",
      "\n"
     ]
    }
   ],
   "source": [
    "pipeline = Pipeline([\n",
    "    (\"classifier\", RandomForestClassifier(100))\n",
    "])\n",
    "params = {\n",
    "    \"classifier__max_depth\": [4, 8, 16, None],\n",
    "    \"classifier__min_samples_split\": [3, 5, 7, 11],\n",
    "    \"classifier__criterion\": [\"gini\", \"entropy\"]\n",
    "}\n",
    "gs2 = GridSearchCV(pipeline, param_grid=params, cv=5, refit=True, \n",
    "                   verbose=5, n_jobs=3, scoring=\"f1\")\n",
    "gs2.fit(X, y)\n",
    "print(\"Random Forest 5 fold cross validation F1 score: {:.3f}\".format(gs2.best_score_))\n",
    "print(classification_report(y_test, gs2.predict(X_test)))"
   ]
  }
 ],
 "metadata": {
  "kernelspec": {
   "display_name": "Python 3",
   "language": "python",
   "name": "python3"
  },
  "language_info": {
   "codemirror_mode": {
    "name": "ipython",
    "version": 3
   },
   "file_extension": ".py",
   "mimetype": "text/x-python",
   "name": "python",
   "nbconvert_exporter": "python",
   "pygments_lexer": "ipython3",
   "version": "3.7.9"
  }
 },
 "nbformat": 4,
 "nbformat_minor": 4
}
